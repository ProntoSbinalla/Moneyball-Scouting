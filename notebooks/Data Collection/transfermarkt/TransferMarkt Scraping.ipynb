{
 "cells": [
  {
   "cell_type": "markdown",
   "id": "2a996f4f",
   "metadata": {},
   "source": [
    "# Web Scraping through TransferMarkt for Players from the Top 10 Leagues"
   ]
  },
  {
   "cell_type": "markdown",
   "id": "455def0d",
   "metadata": {},
   "source": [
    "## Importing Libraries"
   ]
  },
  {
   "cell_type": "code",
   "execution_count": 1,
   "id": "ac2a3c64",
   "metadata": {},
   "outputs": [],
   "source": [
    "from selenium import webdriver\n",
    "from selenium.webdriver.chrome.service import Service\n",
    "from selenium.webdriver.chrome.options import Options\n",
    "from selenium.webdriver.common.by import By\n",
    "from selenium.webdriver.support.ui import WebDriverWait\n",
    "from selenium.webdriver.support import expected_conditions as EC\n",
    "from webdriver_manager.chrome import ChromeDriverManager\n",
    "from bs4 import BeautifulSoup\n",
    "import pandas as pd\n",
    "import time\n",
    "import os\n",
    "import random"
   ]
  },
  {
   "cell_type": "markdown",
   "id": "aa39e9ed",
   "metadata": {},
   "source": [
    "## Setup"
   ]
  },
  {
   "cell_type": "code",
   "execution_count": 2,
   "id": "581444b8",
   "metadata": {},
   "outputs": [],
   "source": [
    "BASE_URL = \"https://www.transfermarkt.com\"\n",
    "\n",
    "LEAGUE_INFO = {\n",
    "    \"serie_a\": {\"slug\": \"serie-a\", \"code\": \"IT1\"},\n",
    "    \"la_liga\": {\"slug\": \"laliga\", \"code\": \"ES1\"},\n",
    "    \"bundesliga\": {\"slug\": \"bundesliga\", \"code\": \"L1\"},\n",
    "    \"ligue_1\": {\"slug\": \"ligue-1\", \"code\": \"FR1\"},\n",
    "    \"premier_league\": {\"slug\": \"premier-league\", \"code\": \"GB1\"},\n",
    "    \"eredivisie\": {\"slug\": \"eredivisie\", \"code\": \"NL1\"},\n",
    "    \"liga_portugal\": {\"slug\": \"liga-portugal\", \"code\": \"PO1\"},\n",
    "    \"süper_lig\": {\"slug\": \"sueper-lig\", \"code\": \"TR1\"},\n",
    "    \"jupiler_pro_league\": {\"slug\": \"jupiler-pro-league\", \"code\": \"BE1\"},\n",
    "    \"austrian_bundesliga\": {\"slug\": \"bundesliga-at\", \"code\": \"A1\"}\n",
    "}\n",
    "\n",
    "def get_soup_with_selenium(url, wait_for_table=False):\n",
    "    options = Options()\n",
    "    options.add_argument(\"--headless=new\")\n",
    "    options.add_argument(\"--no-sandbox\")\n",
    "    options.add_argument(\"--disable-dev-shm-usage\")\n",
    "    options.add_argument(\n",
    "        \"user-agent=Mozilla/5.0 (Windows NT 10.0; Win64; x64) \"\n",
    "        \"AppleWebKit/537.36 (KHTML, like Gecko) \"\n",
    "        \"Chrome/123.0.0.0 Safari/537.36\"\n",
    "    )\n",
    "    driver = webdriver.Chrome(service=Service(ChromeDriverManager().install()), options=options)\n",
    "\n",
    "    try:\n",
    "        driver.get(url)\n",
    "        if wait_for_table:\n",
    "            WebDriverWait(driver, 15).until(\n",
    "                EC.presence_of_element_located((By.CSS_SELECTOR, \"table.items\"))\n",
    "            )\n",
    "        time.sleep(2)\n",
    "        html = driver.page_source\n",
    "    except Exception as e:\n",
    "        print(f\"⚠️ Failed to fetch {url}: {e}\")\n",
    "        html = \"\"\n",
    "    finally:\n",
    "        driver.quit()\n",
    "\n",
    "    return BeautifulSoup(html, \"html.parser\")"
   ]
  },
  {
   "cell_type": "markdown",
   "id": "9d1c5b18",
   "metadata": {},
   "source": [
    "## Scraping"
   ]
  },
  {
   "cell_type": "markdown",
   "id": "a8dedbf8",
   "metadata": {},
   "source": [
    "### Getting All Clubs URL"
   ]
  },
  {
   "cell_type": "code",
   "execution_count": null,
   "id": "e6ddd336",
   "metadata": {},
   "outputs": [],
   "source": [
    "def get_club_links(slug, code):\n",
    "    league_url = f\"{BASE_URL}/{slug}/startseite/wettbewerb/{code}\"\n",
    "    soup = get_soup_with_selenium(league_url)\n",
    "    table = soup.find(\"table\", class_=\"items\")\n",
    "    club_links = []\n",
    "    if table:\n",
    "        for link in table.select(\"td.hauptlink a[href*='/startseite/verein']\"):\n",
    "            href = link.get(\"href\")\n",
    "            if href:\n",
    "                base_href = href.split(\"/saison_id/\")[0]\n",
    "                club_url = f\"{BASE_URL}{base_href}/saison_id/2024\"\n",
    "                club_links.append(club_url)\n",
    "    return list(set(club_links))"
   ]
  },
  {
   "cell_type": "markdown",
   "id": "978a23a7",
   "metadata": {},
   "source": [
    "### Extracting Player Data From the Club's Page"
   ]
  },
  {
   "cell_type": "code",
   "execution_count": null,
   "id": "9904413b",
   "metadata": {},
   "outputs": [],
   "source": [
    "def get_players_from_club(club_url, league_name):\n",
    "    detailed_url = club_url + \"/plus/1\"\n",
    "    compact_url = club_url\n",
    "\n",
    "    detailed_soup = get_soup_with_selenium(detailed_url, wait_for_table=True)\n",
    "    compact_soup = get_soup_with_selenium(compact_url, wait_for_table=True)\n",
    "\n",
    "    detailed_table = detailed_soup.find(\"table\", class_=\"items\")\n",
    "    compact_table = compact_soup.find(\"table\", class_=\"items\")\n",
    "\n",
    "    if not detailed_table or not compact_table:\n",
    "        print(f\"❌ Could not load both tables for: {club_url}\")\n",
    "        return []\n",
    "\n",
    "    detailed_rows = detailed_table.select(\"tbody > tr.odd, tbody > tr.even\")\n",
    "    compact_rows = compact_table.select(\"tbody > tr.odd, tbody > tr.even\")\n",
    "\n",
    "    players = []\n",
    "    club_name_tag = detailed_soup.select_one(\"h1\")\n",
    "    club_name = club_name_tag.text.strip() if club_name_tag else \"N/A\"\n",
    "\n",
    "    for detailed_row, compact_row in zip(detailed_rows, compact_rows):\n",
    "        try:\n",
    "            name_tag = detailed_row.select_one(\"td.posrela table.inline-table tr td.hauptlink a\")\n",
    "            name = name_tag.text.strip().replace(\",\", \"\") if name_tag else \"N/A\"\n",
    "            \n",
    "            profile_href = name_tag['href'] if name_tag and name_tag.has_attr('href') else None\n",
    "            profile_url = BASE_URL + profile_href if profile_href else None\n",
    "\n",
    "            age_tag = compact_row.select_one(\"td.zentriert:nth-of-type(3)\")\n",
    "            age = age_tag.text.strip() if age_tag else \"N/A\"\n",
    "\n",
    "            nationality_imgs = compact_row.select(\"td.zentriert:nth-of-type(4) img\")\n",
    "            nationality = \" / \".join([img.get(\"title\", \"\") for img in nationality_imgs])\n",
    "\n",
    "            position_tag = detailed_row.select_one(\"td.posrela table.inline-table tr:nth-of-type(2) td\")\n",
    "            position = position_tag.text.strip().replace(\",\", \"\") if position_tag else \"N/A\"\n",
    "\n",
    "            market_value_tag = detailed_row.select_one(\"td.rechts.hauptlink\")\n",
    "            market_value = market_value_tag.text.strip().replace(\",\", \"\") if market_value_tag else \"N/A\"\n",
    "\n",
    "            players.append({\n",
    "                \"Name\": name,\n",
    "                \"Age\": age,\n",
    "                \"Position\": position,\n",
    "                \"Club Name\": club_name,\n",
    "                \"League Name\": league_name.replace(\"_\", \" \").title(),\n",
    "                \"Market Value\": market_value,\n",
    "                \"Nationality\": nationality,\n",
    "                \"Profile URL\": profile_url\n",
    "            })\n",
    "\n",
    "            time.sleep(random.uniform(10, 20))\n",
    "\n",
    "        except Exception as e:\n",
    "            print(f\"⚠️ Error parsing row: {e}\")\n",
    "            continue\n",
    "\n",
    "    return players"
   ]
  },
  {
   "cell_type": "markdown",
   "id": "47565622",
   "metadata": {},
   "source": [
    "### Scraping Through All The Leagues"
   ]
  },
  {
   "cell_type": "code",
   "execution_count": null,
   "id": "576b396b",
   "metadata": {},
   "outputs": [
    {
     "name": "stdout",
     "output_type": "stream",
     "text": [
      "\n",
      "=== Scraping Serie A ===\n",
      "Found 20 clubs.\n",
      "\n",
      "Scraping club 1/20: https://www.transfermarkt.com/hellas-verona/startseite/verein/276/saison_id/2025\n",
      "\n",
      "Scraping club 2/20: https://www.transfermarkt.com/udinese-calcio/startseite/verein/410/saison_id/2025\n",
      "\n",
      "Scraping club 3/20: https://www.transfermarkt.com/como-1907/startseite/verein/1047/saison_id/2025\n",
      "\n",
      "Scraping club 4/20: https://www.transfermarkt.com/us-sassuolo/startseite/verein/6574/saison_id/2025\n",
      "\n",
      "Scraping club 5/20: https://www.transfermarkt.com/ac-pisa-1909/startseite/verein/4172/saison_id/2025\n",
      "\n",
      "Scraping club 6/20: https://www.transfermarkt.com/as-rom/startseite/verein/12/saison_id/2025\n",
      "\n",
      "Scraping club 7/20: https://www.transfermarkt.com/ac-florenz/startseite/verein/430/saison_id/2025\n",
      "\n",
      "Scraping club 8/20: https://www.transfermarkt.com/us-cremonese/startseite/verein/2239/saison_id/2025\n",
      "\n",
      "Scraping club 9/20: https://www.transfermarkt.com/ssc-neapel/startseite/verein/6195/saison_id/2025\n",
      "\n",
      "Scraping club 10/20: https://www.transfermarkt.com/genua-cfc/startseite/verein/252/saison_id/2025\n",
      "\n",
      "Scraping club 11/20: https://www.transfermarkt.com/cagliari-calcio/startseite/verein/1390/saison_id/2025\n",
      "\n",
      "Scraping club 12/20: https://www.transfermarkt.com/inter-mailand/startseite/verein/46/saison_id/2025\n",
      "\n",
      "Scraping club 13/20: https://www.transfermarkt.com/juventus-turin/startseite/verein/506/saison_id/2025\n",
      "\n",
      "Scraping club 14/20: https://www.transfermarkt.com/fc-bologna/startseite/verein/1025/saison_id/2025\n",
      "\n",
      "Scraping club 15/20: https://www.transfermarkt.com/parma-calcio-1913/startseite/verein/130/saison_id/2025\n",
      "\n",
      "Scraping club 16/20: https://www.transfermarkt.com/ac-mailand/startseite/verein/5/saison_id/2025\n",
      "\n",
      "Scraping club 17/20: https://www.transfermarkt.com/atalanta-bergamo/startseite/verein/800/saison_id/2025\n",
      "\n",
      "Scraping club 18/20: https://www.transfermarkt.com/lazio-rom/startseite/verein/398/saison_id/2025\n",
      "\n",
      "Scraping club 19/20: https://www.transfermarkt.com/us-lecce/startseite/verein/1005/saison_id/2025\n",
      "\n",
      "Scraping club 20/20: https://www.transfermarkt.com/fc-turin/startseite/verein/416/saison_id/2025\n",
      "📁 Saved data to ../../../data/raw/transfermarkt/serie_a_players.csv\n",
      "\n",
      "=== Scraping La Liga ===\n",
      "Found 20 clubs.\n",
      "\n",
      "Scraping club 1/20: https://www.transfermarkt.com/fc-sevilla/startseite/verein/368/saison_id/2025\n"
     ]
    }
   ],
   "source": [
    "for league_name, info in LEAGUE_INFO.items():\n",
    "    print(f\"\\n=== Scraping {league_name.replace('_', ' ').title()} ===\")\n",
    "    all_players = []\n",
    "    club_links = get_club_links(info['slug'], info['code'])\n",
    "    print(f\"Found {len(club_links)} clubs.\")\n",
    "\n",
    "    for idx, club_url in enumerate(club_links):\n",
    "        print(f\"\\nScraping club {idx+1}/{len(club_links)}: {club_url}\")\n",
    "        players = get_players_from_club(club_url, league_name)\n",
    "        all_players.extend(players)\n",
    "\n",
    "        time.sleep(random.uniform(10, 20))\n",
    "\n",
    "    df = pd.DataFrame(all_players)\n",
    "    df.to_csv(f\"../../../data/raw/transfermarkt/{league_name}_players.csv\", index=False)\n",
    "    print(f\"📁 Saved data to ../../../data/raw/transfermarkt/{league_name}_players.csv\")"
   ]
  }
 ],
 "metadata": {
  "kernelspec": {
   "display_name": "Python 3",
   "language": "python",
   "name": "python3"
  },
  "language_info": {
   "codemirror_mode": {
    "name": "ipython",
    "version": 3
   },
   "file_extension": ".py",
   "mimetype": "text/x-python",
   "name": "python",
   "nbconvert_exporter": "python",
   "pygments_lexer": "ipython3",
   "version": "3.12.1"
  }
 },
 "nbformat": 4,
 "nbformat_minor": 5
}
